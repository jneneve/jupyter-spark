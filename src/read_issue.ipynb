{
 "cells": [
  {
   "cell_type": "code",
   "execution_count": 4,
   "id": "22f10f70-d0e7-44ac-8277-1d09d070f5b2",
   "metadata": {},
   "outputs": [
    {
     "name": "stdout",
     "output_type": "stream",
     "text": [
      "root\n",
      " |-- id: long (nullable = true)\n",
      " |-- issue_date: date (nullable = true)\n",
      " |-- issue_number: integer (nullable = true)\n",
      " |-- issue_doi: string (nullable = true)\n",
      " |-- journal_acronym: string (nullable = true)\n",
      "\n"
     ]
    }
   ],
   "source": [
    "from pyspark.sql import SparkSession\n",
    "\n",
    "spark = SparkSession \\\n",
    "    .builder \\\n",
    "    .appName(\"PySpark\") \\\n",
    "    .config(\"spark.jars\", \"../lib/postgresql-42.7.4.jar\") \\\n",
    "    .getOrCreate() \\\n",
    "\n",
    "sc = spark.sparkContext\n",
    "\n",
    "# csvDF = spark.read \\\n",
    "#     .option(\"header\", True) \\\n",
    "#     .csv(\"../resource/issueOutput.csv\")\n",
    "\n",
    "jdbcUrl = \"jdbc:postgresql://postgres:5432/app?user=postgres&password=123456\"\n",
    "jdbcDF = spark.read \\\n",
    "    .format(\"jdbc\") \\\n",
    "    .option(\"url\", jdbcUrl) \\\n",
    "    .option(\"driver\", \"org.postgresql.Driver\") \\\n",
    "    .option(\"query\", \"SELECT * FROM issue_output_csv\") \\\n",
    "    .load()\n",
    "jdbcDF.printSchema()"
   ]
  }
 ],
 "metadata": {
  "kernelspec": {
   "display_name": "Python 3 (ipykernel)",
   "language": "python",
   "name": "python3"
  },
  "language_info": {
   "codemirror_mode": {
    "name": "ipython",
    "version": 3
   },
   "file_extension": ".py",
   "mimetype": "text/x-python",
   "name": "python",
   "nbconvert_exporter": "python",
   "pygments_lexer": "ipython3",
   "version": "3.12.7"
  }
 },
 "nbformat": 4,
 "nbformat_minor": 5
}
