{
 "cells": [
  {
   "cell_type": "code",
   "execution_count": 2,
   "id": "22f10f70-d0e7-44ac-8277-1d09d070f5b2",
   "metadata": {},
   "outputs": [],
   "source": [
    "from pyspark.sql import SparkSession\n",
    "\n",
    "spark = SparkSession.builder.appName(\"Python Spark SQL basic example\").getOrCreate()\n",
    "sc = spark.sparkContext\n",
    "\n",
    "path = \"../resource/issueOutput.csv\"\n",
    "\n",
    "df = spark.read.option(\"header\", True).csv(path)"
   ]
  }
 ],
 "metadata": {
  "kernelspec": {
   "display_name": "Python 3 (ipykernel)",
   "language": "python",
   "name": "python3"
  },
  "language_info": {
   "codemirror_mode": {
    "name": "ipython",
    "version": 3
   },
   "file_extension": ".py",
   "mimetype": "text/x-python",
   "name": "python",
   "nbconvert_exporter": "python",
   "pygments_lexer": "ipython3",
   "version": "3.11.6"
  }
 },
 "nbformat": 4,
 "nbformat_minor": 5
}
